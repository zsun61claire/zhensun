{
 "cells": [
  {
   "cell_type": "code",
   "execution_count": 1,
   "metadata": {},
   "outputs": [],
   "source": [
    "# Import packages\n",
    "import tweepy\n",
    "import csv "
   ]
  },
  {
   "cell_type": "code",
   "execution_count": 2,
   "metadata": {},
   "outputs": [],
   "source": [
    "# TODO: Replace the keys you saved from the Twitter API at the appropriate locations\n",
    "# auth = tweepy.auth.OAuthHandler(‘API Key’，‘API Secret Key')\n",
    "# auth.set_access_token('Access token', 'Access token secret')\n",
    "auth = tweepy.auth.OAuthHandler('1NPd25R4nuLDk7IKggVMwsNss', '9245G62iWCyYQsB2PJtbsQPCjSxLXSEm2eNfKUxo23ffyWRAxL')\n",
    "auth.set_access_token('1314831936007729153-8lB6A0v9pwnEaAh7MWDP8y2ABX1fIF', 'JYHLX4DwW3FHoIaWXTHHjr50rkW3XJRsPdbyZ0M6WV4Z1')\n",
    "\n",
    "api = tweepy.API(auth)"
   ]
  },
  {
   "cell_type": "code",
   "execution_count": 4,
   "metadata": {},
   "outputs": [],
   "source": [
    "def search_term(outputFile, term, limit):\n",
    "\n",
    "    result = open(outputFile, 'a')\n",
    "    csvWriter = csv.writer(result)\n",
    "    csvWriter.writerow([\"Screen Name\", \"Number of Followers\", \"Location\", \"Tweet\"])\n",
    "\n",
    "    try:\n",
    "        i = 0\n",
    "        for tweet in tweepy.Cursor(api.search,\n",
    "                                    q = term,\n",
    "                                    lang = \"en\").items(limit):\n",
    "\n",
    "            csvWriter.writerow([tweet.user.screen_name, \n",
    "                                tweet.user.followers_count, \n",
    "                                tweet.user.location, \n",
    "                                tweet.text.encode('utf-8')])\n",
    "            i = i+1\n",
    "        print(str(i)+\" rows of data crawled from Twitter related to \" + term)\n",
    "\n",
    "        result.close()\n",
    "    except:\n",
    "        print(\"Waiting to crawl...\")\n"
   ]
  },
  {
   "cell_type": "code",
   "execution_count": 14,
   "metadata": {},
   "outputs": [
    {
     "name": "stdout",
     "output_type": "stream",
     "text": [
      "Waiting to crawl...\n"
     ]
    }
   ],
   "source": [
    "search_term('Macbook.csv', 'MacBook', 150)"
   ]
  },
  {
   "cell_type": "code",
   "execution_count": 26,
   "metadata": {},
   "outputs": [
    {
     "name": "stdout",
     "output_type": "stream",
     "text": [
      "Waiting to crawl...\n"
     ]
    }
   ],
   "source": [
    "search_term('Surface.csv', 'MicrosoftSurface', 150)"
   ]
  },
  {
   "cell_type": "code",
   "execution_count": 27,
   "metadata": {},
   "outputs": [
    {
     "name": "stdout",
     "output_type": "stream",
     "text": [
      "42 rows of data crawled from Twitter related to SurfaceGo\n"
     ]
    }
   ],
   "source": [
    "search_term('Surface.csv', 'SurfaceGo', 150)"
   ]
  },
  {
   "cell_type": "code",
   "execution_count": 28,
   "metadata": {},
   "outputs": [
    {
     "name": "stdout",
     "output_type": "stream",
     "text": [
      "Waiting to crawl...\n"
     ]
    }
   ],
   "source": [
    "search_term('Surface.csv', 'SurfacePro', 150)"
   ]
  },
  {
   "cell_type": "code",
   "execution_count": 30,
   "metadata": {},
   "outputs": [
    {
     "name": "stdout",
     "output_type": "stream",
     "text": [
      "Waiting to crawl...\n"
     ]
    }
   ],
   "source": [
    "search_term('Surface.csv', 'Surface', 150)"
   ]
  },
  {
   "cell_type": "code",
   "execution_count": 42,
   "metadata": {},
   "outputs": [
    {
     "name": "stdout",
     "output_type": "stream",
     "text": [
      "Waiting to crawl...\n"
     ]
    }
   ],
   "source": [
    "search_term('Chromebook.csv', 'Chromebook', 150)"
   ]
  },
  {
   "cell_type": "code",
   "execution_count": 38,
   "metadata": {},
   "outputs": [
    {
     "name": "stdout",
     "output_type": "stream",
     "text": [
      "Waiting to crawl...\n"
     ]
    }
   ],
   "source": [
    "search_term('Chromebook.csv', 'googlechrome', 150)"
   ]
  },
  {
   "cell_type": "code",
   "execution_count": null,
   "metadata": {},
   "outputs": [],
   "source": [
    "\n"
   ]
  },
  {
   "cell_type": "code",
   "execution_count": null,
   "metadata": {},
   "outputs": [],
   "source": []
  }
 ],
 "metadata": {
  "kernelspec": {
   "display_name": "Python 3",
   "language": "python",
   "name": "python3"
  },
  "language_info": {
   "codemirror_mode": {
    "name": "ipython",
    "version": 3
   },
   "file_extension": ".py",
   "mimetype": "text/x-python",
   "name": "python",
   "nbconvert_exporter": "python",
   "pygments_lexer": "ipython3",
   "version": "3.8.3"
  }
 },
 "nbformat": 4,
 "nbformat_minor": 4
}
